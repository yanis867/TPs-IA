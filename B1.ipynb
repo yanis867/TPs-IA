{
 "cells": [
  {
   "metadata": {},
   "cell_type": "markdown",
   "source": [
    "# Fiche Bonus 1\n",
    "Ceci est la solution de la première fiche bonus \"*Introduction à Python*\"\n",
    "## Exercice 1\n",
    "1. Somme des nombres impaires"
   ],
   "id": "c548dbe4fd7ffa18"
  },
  {
   "cell_type": "code",
   "id": "initial_id",
   "metadata": {
    "collapsed": true
   },
   "source": [
    "n = input(\"Entrer un nombre : \")\n",
    "s = 0\n",
    "for i in range(1, int(n)+1, 2):\n",
    "    print(i, \"+\", end=\" \")\n",
    "    s += i\n",
    "print(\"=\", s)"
   ],
   "outputs": [],
   "execution_count": null
  },
  {
   "metadata": {},
   "cell_type": "markdown",
   "source": "2. Somme des nombre premiers",
   "id": "8f15b83d859252d"
  },
  {
   "metadata": {},
   "cell_type": "code",
   "source": [
    "n = input(\"Entrer un nombre : \")\n",
    "s = 0\n",
    "for i in range(2, int(n)+1):\n",
    "    est_prime = True\n",
    "    for j in range(2, i):\n",
    "        if i % j == 0:\n",
    "            est_prime = False\n",
    "            break\n",
    "    if est_prime:\n",
    "        print(i, \"+\", end=\" \")\n",
    "        s += i\n",
    "print(\"=\", s, end=\" \")"
   ],
   "id": "637159fdf807d8c7",
   "outputs": [],
   "execution_count": null
  },
  {
   "metadata": {},
   "cell_type": "markdown",
   "source": "3. Gestion des exeptions",
   "id": "6dc5cbeb40fbdfa8"
  },
  {
   "metadata": {},
   "cell_type": "code",
   "source": [
    "while True:\n",
    "    try:\n",
    "        n = input(\"Entrer un nombre : \")\n",
    "        if(int(n) >= 2):\n",
    "            break\n",
    "    except ValueError: print(\"erreur : entrer un nombre entier\")\n",
    "s = 0\n",
    "for i in range(2, int(n)+1):\n",
    "    est_prime = True\n",
    "    for j in range(2, i):\n",
    "        if i % j == 0:\n",
    "            est_prime = False\n",
    "            break\n",
    "    if est_prime:\n",
    "        print(i, \"+\", end=\" \")\n",
    "        s += i\n",
    "print(\"=\", s, end=\" \")"
   ],
   "id": "bee7109e51ba9a2b",
   "outputs": [],
   "execution_count": null
  },
  {
   "metadata": {},
   "cell_type": "markdown",
   "source": [
    "## Exercice 2\n",
    "1. Lecture des floats vers une liste. Arrêt apres **\\***"
   ],
   "id": "86bac9dd5efb07de"
  },
  {
   "metadata": {
    "ExecuteTime": {
     "end_time": "2025-03-05T23:20:08.456145Z",
     "start_time": "2025-03-05T23:19:59.068249Z"
    }
   },
   "cell_type": "code",
   "source": [
    "def lire_nombres():\n",
    "    nombres = []\n",
    "    while True:\n",
    "        entree = input(\"Entrez un nombre (ou '*' pour arrêter) : \")\n",
    "        if entree == '*':\n",
    "            break\n",
    "        try:\n",
    "            nombres.append(float(entree))\n",
    "        except ValueError:\n",
    "            print(\"Entrée invalide. Veuillez entrer un nombre valide.\")\n",
    "    return nombres\n",
    "\n",
    "nombres = lire_nombres()\n",
    "print(\"nombres =\", nombres)"
   ],
   "id": "873f86943c9511fb",
   "outputs": [
    {
     "name": "stdout",
     "output_type": "stream",
     "text": [
      "nombres =  [1.0, 2.0, 3.0, 4.0, 5.0]\n"
     ]
    }
   ],
   "execution_count": 4
  },
  {
   "metadata": {},
   "cell_type": "markdown",
   "source": [
    "2. Calcul de la\n",
    "- Somme\n",
    "- Max\n",
    "- min\n",
    "- Moyenne\n",
    "- Variance\n",
    "- Covariance"
   ],
   "id": "f05352c3ae442498"
  },
  {
   "metadata": {
    "ExecuteTime": {
     "end_time": "2025-03-05T23:24:45.798098Z",
     "start_time": "2025-03-05T23:24:45.788901Z"
    }
   },
   "cell_type": "code",
   "source": [
    "import statistics\n",
    "def calculs_statistiques(nombres):\n",
    "    if not nombres:\n",
    "        print(\"Aucun nombre saisi.\")\n",
    "        return\n",
    "\n",
    "    somme = sum(nombres)\n",
    "    maximum = max(nombres)\n",
    "    minimum = min(nombres)\n",
    "    moyenne = statistics.mean(nombres)\n",
    "    variance = statistics.variance(nombres) if len(nombres) > 1 else 0  # Variance non définie pour un seul élément\n",
    "    covariance = statistics.pstdev(nombres) if len(nombres) > 1 else 0  # Covariance remplacée par écart-type (pstdev)\n",
    "\n",
    "    print(f\"Somme: {somme}\")\n",
    "    print(f\"Maximum: {maximum}\")\n",
    "    print(f\"Minimum: {minimum}\")\n",
    "    print(f\"Moyenne: {moyenne}\")\n",
    "    print(f\"Variance: {variance}\")\n",
    "    print(f\"Covariance (écart-type): {covariance}\")\n",
    "\n",
    "calculs_statistiques(nombres)"
   ],
   "id": "1df5cd28dbb48760",
   "outputs": [
    {
     "name": "stdout",
     "output_type": "stream",
     "text": [
      "Somme: 15.0\n",
      "Maximum: 5.0\n",
      "Minimum: 1.0\n",
      "Moyenne: 3.0\n",
      "Variance: 2.5\n",
      "Covariance (écart-type): 1.4142135623730951\n"
     ]
    }
   ],
   "execution_count": 11
  }
 ],
 "metadata": {
  "kernelspec": {
   "display_name": "Python 3",
   "language": "python",
   "name": "python3"
  },
  "language_info": {
   "codemirror_mode": {
    "name": "ipython",
    "version": 2
   },
   "file_extension": ".py",
   "mimetype": "text/x-python",
   "name": "python",
   "nbconvert_exporter": "python",
   "pygments_lexer": "ipython2",
   "version": "2.7.6"
  }
 },
 "nbformat": 4,
 "nbformat_minor": 5
}
