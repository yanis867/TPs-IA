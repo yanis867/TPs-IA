{
 "cells": [
  {
   "metadata": {},
   "cell_type": "markdown",
   "source": [
    "# Fiche Bonus 1\n",
    "## Exercice 1\n",
    "1. Somme des nombres impaires"
   ],
   "id": "c548dbe4fd7ffa18"
  },
  {
   "cell_type": "code",
   "id": "initial_id",
   "metadata": {
    "collapsed": true,
    "ExecuteTime": {
     "end_time": "2025-02-27T09:18:48.354958Z",
     "start_time": "2025-02-27T09:18:44.507947Z"
    }
   },
   "source": [
    "n = input(\"Entrer un nombre : \")\n",
    "s = 0\n",
    "for i in range(1, int(n)+1, 2):\n",
    "    print(i, \"+\", end=\" \")\n",
    "    s += i\n",
    "print(\"=\", s)"
   ],
   "outputs": [
    {
     "name": "stdout",
     "output_type": "stream",
     "text": [
      "1 + 3 + 5 + = 9\n"
     ]
    }
   ],
   "execution_count": 17
  },
  {
   "metadata": {},
   "cell_type": "markdown",
   "source": "2. Somme des nombre premiers",
   "id": "8f15b83d859252d"
  },
  {
   "metadata": {
    "ExecuteTime": {
     "end_time": "2025-02-27T10:04:18.951418Z",
     "start_time": "2025-02-27T10:04:16.087672Z"
    }
   },
   "cell_type": "code",
   "source": [
    "n = input(\"Entrer un nombre : \")\n",
    "s = 0\n",
    "for i in range(2, int(n)+1):\n",
    "    est_prime = True\n",
    "    for j in range(2, i):\n",
    "        if i % j == 0:\n",
    "            est_prime = False\n",
    "            break\n",
    "    if est_prime:\n",
    "        print(i, \"+\", end=\" \")\n",
    "        s += i\n",
    "print(\"=\", s, end=\" \")"
   ],
   "id": "637159fdf807d8c7",
   "outputs": [
    {
     "ename": "ValueError",
     "evalue": "invalid literal for int() with base 10: 'hi'",
     "output_type": "error",
     "traceback": [
      "\u001B[1;31m---------------------------------------------------------------------------\u001B[0m",
      "\u001B[1;31mValueError\u001B[0m                                Traceback (most recent call last)",
      "Cell \u001B[1;32mIn[30], line 3\u001B[0m\n\u001B[0;32m      1\u001B[0m n \u001B[38;5;241m=\u001B[39m \u001B[38;5;28minput\u001B[39m(\u001B[38;5;124m\"\u001B[39m\u001B[38;5;124mEntrer un nombre : \u001B[39m\u001B[38;5;124m\"\u001B[39m)\n\u001B[0;32m      2\u001B[0m s \u001B[38;5;241m=\u001B[39m \u001B[38;5;241m0\u001B[39m\n\u001B[1;32m----> 3\u001B[0m \u001B[38;5;28;01mfor\u001B[39;00m i \u001B[38;5;129;01min\u001B[39;00m \u001B[38;5;28mrange\u001B[39m(\u001B[38;5;241m2\u001B[39m, \u001B[38;5;28;43mint\u001B[39;49m\u001B[43m(\u001B[49m\u001B[43mn\u001B[49m\u001B[43m)\u001B[49m\u001B[38;5;241m+\u001B[39m\u001B[38;5;241m1\u001B[39m):\n\u001B[0;32m      4\u001B[0m     est_prime \u001B[38;5;241m=\u001B[39m \u001B[38;5;28;01mTrue\u001B[39;00m\n\u001B[0;32m      5\u001B[0m     \u001B[38;5;28;01mfor\u001B[39;00m j \u001B[38;5;129;01min\u001B[39;00m \u001B[38;5;28mrange\u001B[39m(\u001B[38;5;241m2\u001B[39m, i):\n",
      "\u001B[1;31mValueError\u001B[0m: invalid literal for int() with base 10: 'hi'"
     ]
    }
   ],
   "execution_count": 30
  },
  {
   "metadata": {},
   "cell_type": "markdown",
   "source": "3. Gestion des exeptions",
   "id": "6dc5cbeb40fbdfa8"
  },
  {
   "metadata": {
    "ExecuteTime": {
     "end_time": "2025-02-27T10:06:31.911823Z",
     "start_time": "2025-02-27T10:06:23.256951Z"
    }
   },
   "cell_type": "code",
   "source": [
    "while True:\n",
    "    try:\n",
    "        n = input(\"Entrer un nombre : \")\n",
    "        if(int(n) >= 2):\n",
    "            break\n",
    "    except ValueError: print(\"erreur : entrer un nombre entier\")\n",
    "s = 0\n",
    "for i in range(2, int(n)+1):\n",
    "    est_prime = True\n",
    "    for j in range(2, i):\n",
    "        if i % j == 0:\n",
    "            est_prime = False\n",
    "            break\n",
    "    if est_prime:\n",
    "        print(i, \"+\", end=\" \")\n",
    "        s += i\n",
    "print(\"=\", s, end=\" \")"
   ],
   "id": "bee7109e51ba9a2b",
   "outputs": [
    {
     "name": "stdout",
     "output_type": "stream",
     "text": [
      "erreur : entrer un nombre entier\n",
      "2 + 3 + = 5 "
     ]
    }
   ],
   "execution_count": 33
  }
 ],
 "metadata": {
  "kernelspec": {
   "display_name": "Python 3",
   "language": "python",
   "name": "python3"
  },
  "language_info": {
   "codemirror_mode": {
    "name": "ipython",
    "version": 2
   },
   "file_extension": ".py",
   "mimetype": "text/x-python",
   "name": "python",
   "nbconvert_exporter": "python",
   "pygments_lexer": "ipython2",
   "version": "2.7.6"
  }
 },
 "nbformat": 4,
 "nbformat_minor": 5
}
